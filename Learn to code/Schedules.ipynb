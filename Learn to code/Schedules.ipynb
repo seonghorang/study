{
 "cells": [
  {
   "cell_type": "code",
   "execution_count": null,
   "id": "ebb95775",
   "metadata": {},
   "outputs": [
    {
     "data": {
      "text/plain": [
       "535"
      ]
     },
     "execution_count": 6,
     "metadata": {},
     "output_type": "execute_result"
    }
   ],
   "source": [
    "# 유연근무제\n",
    "\n",
    "def solution(schedules, timelogs, startday):\n",
    "    answer = 0\n",
    "    ## 주말 체크\n",
    "    weekend = {6,7}\n",
    "    \n",
    "    for i in range(len(schedules)):\n",
    "        ## 평일 초기화\n",
    "        workdays = 0\n",
    "        for j in range(7):\n",
    "            ## 요일 계산\n",
    "            day=(startday + j - 1) % 7 + 1\n",
    "            ## 주말 체크 후 넘김\n",
    "            if day in weekend:\n",
    "                continue\n",
    "            ## 시/분 -> 분으로 변환 후 계산\n",
    "            sche_h, sche_m = divmod(schedules[i],100)\n",
    "            log_h, log_m = divmod(timelogs[i][j],100)\n",
    "            schedules_minutes = sche_h * 60 + sche_m\n",
    "            timelogs_minutes = log_h * 60 + log_m\n",
    "            ## 출근 시간 10분까지 체크\n",
    "            if schedules_minutes + 10 >= timelogs_minutes:\n",
    "                workdays += 1\n",
    "        ## 5일 정상출근이면 체크\n",
    "        if workdays == 5:\n",
    "            answer += 1\n",
    "    return answer"
   ]
  }
 ],
 "metadata": {
  "kernelspec": {
   "display_name": ".venv",
   "language": "python",
   "name": "python3"
  },
  "language_info": {
   "codemirror_mode": {
    "name": "ipython",
    "version": 3
   },
   "file_extension": ".py",
   "mimetype": "text/x-python",
   "name": "python",
   "nbconvert_exporter": "python",
   "pygments_lexer": "ipython3",
   "version": "3.12.4"
  }
 },
 "nbformat": 4,
 "nbformat_minor": 5
}
