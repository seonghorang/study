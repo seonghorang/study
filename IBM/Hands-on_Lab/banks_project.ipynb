{
 "cells": [
  {
   "cell_type": "code",
   "execution_count": 23,
   "id": "f6472c04",
   "metadata": {},
   "outputs": [],
   "source": [
    "import pandas as pd\n",
    "import numpy as np\n",
    "import sqlite3\n",
    "import requests\n",
    "from bs4 import BeautifulSoup\n",
    "from datetime import datetime"
   ]
  },
  {
   "cell_type": "code",
   "execution_count": 24,
   "id": "4f5f5b5d",
   "metadata": {},
   "outputs": [],
   "source": [
    "\n",
    "url = 'https://web.archive.org/web/20230908091635/https://en.wikipedia.org/wiki/List_of_largest_banks'\n",
    "table_attribs = ['Name','MC_USD_Billion']\n",
    "db_name = 'Banks.db'\n",
    "table_name = 'Largest_banks'\n",
    "csv_path = 'exchange_rate.csv'\n",
    "output_path = './Largest_banks_data.csv'"
   ]
  },
  {
   "cell_type": "code",
   "execution_count": 25,
   "id": "1028ba2a",
   "metadata": {},
   "outputs": [],
   "source": [
    "\n",
    "def log_progress(message):\n",
    "    timestamp_format = '%Y-%h-%d-%H:%M:%S'\n",
    "    now = datetime.now()\n",
    "    timestamp = now.strftime(timestamp_format) \n",
    "    with open(\"code_log.txt\",\"a\") as f: \n",
    "        f.write(timestamp + ' : ' + message + '\\n')\n",
    "\n",
    "log_progress('예비 작업 완료. ETL 프로세스 시작')"
   ]
  },
  {
   "cell_type": "code",
   "execution_count": 26,
   "id": "42089a2f",
   "metadata": {},
   "outputs": [
    {
     "name": "stderr",
     "output_type": "stream",
     "text": [
      "C:\\Users\\user\\AppData\\Local\\Temp\\ipykernel_17668\\804448994.py:13: FutureWarning: The behavior of DataFrame concatenation with empty or all-NA entries is deprecated. In a future version, this will no longer exclude empty or all-NA columns when determining the result dtypes. To retain the old behavior, exclude the relevant entries before the concat operation.\n",
      "  df = pd.concat([df,df1], ignore_index=True)\n"
     ]
    }
   ],
   "source": [
    "def extract(url, table_attribs):\n",
    "    page=requests.get(url).text\n",
    "    data = BeautifulSoup(page, 'html.parser')\n",
    "    df=pd.DataFrame(columns=table_attribs)\n",
    "    tables = data.find_all('tbody')\n",
    "    rows = tables[0].find_all('tr')\n",
    "    for row in rows:\n",
    "        col = row.find_all('td')\n",
    "        if len(col)!=0:\n",
    "            data_dict = {\"Name\": col[1].text.strip(),\n",
    "                            \"MC_USD_Billion\": float(col[2].text.strip().replace(\"\\n\",\"\"))}\n",
    "            df1 = pd.DataFrame([data_dict])\n",
    "            df = pd.concat([df,df1], ignore_index=True)\n",
    "    return df\n",
    "\n",
    "df = extract(url, table_attribs)\n",
    "\n",
    "log_progress('데이터 추출 완료. 변환 프로세스 시작')"
   ]
  },
  {
   "cell_type": "code",
   "execution_count": 27,
   "id": "e00ffd0b",
   "metadata": {},
   "outputs": [],
   "source": [
    "def transform(df, csv_path):\n",
    "    exchange_df = pd.read_csv(csv_path)\n",
    "    exchange_rate = dict(zip(exchange_df.iloc[:,0], exchange_df.iloc[:,1]))\n",
    "    df['MC_GBP_Billion'] = [np.round(x * exchange_rate['GBP'],2) for x in df['MC_USD_Billion']]\n",
    "    df['MC_EUR_Billion'] = [np.round(x * exchange_rate['EUR'],2) for x in df['MC_USD_Billion']]\n",
    "    df['MC_INR_Billion'] = [np.round(x * exchange_rate['INR'],2) for x in df['MC_USD_Billion']]\n",
    "    return df\n",
    "\n",
    "df = transform(df, csv_path)\n",
    "\n",
    "log_progress('데이터 변환 완료. 로딩 프로세스 시작')"
   ]
  },
  {
   "cell_type": "code",
   "execution_count": 28,
   "id": "af7dd1fb",
   "metadata": {},
   "outputs": [],
   "source": [
    "def load_to_csv(df, output_path):\n",
    "    df.to_csv(output_path)\n",
    "\n",
    "load_to_csv(df, output_path)\n",
    "\n",
    "log_progress('데이터가 CSV 파일에 저장됨')"
   ]
  },
  {
   "cell_type": "code",
   "execution_count": 29,
   "id": "b1bd7cec",
   "metadata": {},
   "outputs": [],
   "source": [
    "sql_connection = sqlite3.connect(db_name)\n",
    "\n",
    "log_progress('SQL 연결 시작됨')\n",
    "\n",
    "def load_to_db(df, sql_connection, table_name):\n",
    "    df.to_sql(table_name, sql_connection, if_exists='replace', index=False)\n",
    "    \n",
    "load_to_db(df, sql_connection, table_name)\n",
    "\n",
    "log_progress('데이터가 데이터베이스에 테이블로 로드됨, 쿼리 실행 중')"
   ]
  },
  {
   "cell_type": "code",
   "execution_count": 30,
   "id": "d23c8f6d",
   "metadata": {},
   "outputs": [
    {
     "name": "stdout",
     "output_type": "stream",
     "text": [
      "SELECT AVG(MC_GBP_Billion) FROM Largest_banks\n",
      "   AVG(MC_GBP_Billion)\n",
      "0              151.987\n"
     ]
    }
   ],
   "source": [
    "def run_queries(query_statement, sql_connection):\n",
    "    print(query_statement)\n",
    "    query_output = pd.read_sql(query_statement, sql_connection)\n",
    "    print(query_output)\n",
    "\n",
    "# query_statement = \"SELECT * FROM Largest_banks\"\n",
    "# run_queries(query_statement, sql_connection)\n",
    "\n",
    "query_statement = \"SELECT AVG(MC_GBP_Billion) FROM Largest_banks\"\n",
    "run_queries(query_statement, sql_connection)\n",
    "\n",
    "# query_statement = \"SELECT Name from Largest_banks LIMIT 5\"\n",
    "# run_queries(query_statement, sql_connection)\n",
    "\n",
    "log_progress('프로세스 완료')\n",
    "\n",
    "sql_connection.close()\n",
    "\n",
    "log_progress('서버 연결 종료')"
   ]
  },
  {
   "cell_type": "code",
   "execution_count": null,
   "id": "65960126",
   "metadata": {},
   "outputs": [],
   "source": []
  }
 ],
 "metadata": {
  "kernelspec": {
   "display_name": ".venv",
   "language": "python",
   "name": "python3"
  },
  "language_info": {
   "codemirror_mode": {
    "name": "ipython",
    "version": 3
   },
   "file_extension": ".py",
   "mimetype": "text/x-python",
   "name": "python",
   "nbconvert_exporter": "python",
   "pygments_lexer": "ipython3",
   "version": "3.12.4"
  }
 },
 "nbformat": 4,
 "nbformat_minor": 5
}
