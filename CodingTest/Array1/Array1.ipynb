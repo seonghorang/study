{
 "cells": [
  {
   "cell_type": "code",
   "execution_count": null,
   "id": "0950cc2a",
   "metadata": {},
   "outputs": [],
   "source": [
    "def solution(n, k):\n",
    "    answer = []\n",
    "    for i in range(k,n+1,k):\n",
    "        answer.append(i)\n",
    "    return answer"
   ]
  }
 ],
 "metadata": {
  "language_info": {
   "name": "python"
  }
 },
 "nbformat": 4,
 "nbformat_minor": 5
}
