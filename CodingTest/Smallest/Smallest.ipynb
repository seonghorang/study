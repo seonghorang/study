{
 "cells": [
  {
   "cell_type": "code",
   "execution_count": null,
   "id": "0e61cb56",
   "metadata": {},
   "outputs": [],
   "source": [
    "# 제일 작은 수 제거하기\n",
    "def solution(arr):\n",
    "    answer = []\n",
    "    min_val = min(arr)\n",
    "    if len(arr) < 2 :\n",
    "        answer.append(-1)\n",
    "    else :\n",
    "        for i in range(len(arr)):\n",
    "            if arr[i] != min_val:\n",
    "                answer.append(arr[i])\n",
    "    return answer"
   ]
  }
 ],
 "metadata": {
  "kernelspec": {
   "display_name": ".venv",
   "language": "python",
   "name": "python3"
  },
  "language_info": {
   "codemirror_mode": {
    "name": "ipython",
    "version": 3
   },
   "file_extension": ".py",
   "mimetype": "text/x-python",
   "name": "python",
   "nbconvert_exporter": "python",
   "pygments_lexer": "ipython3",
   "version": "3.12.4"
  }
 },
 "nbformat": 4,
 "nbformat_minor": 5
}
