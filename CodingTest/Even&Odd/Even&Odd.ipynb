{
 "cells": [
  {
   "cell_type": "code",
   "execution_count": null,
   "id": "8600cc30",
   "metadata": {},
   "outputs": [],
   "source": [
    "# 짝수와 홀수\n",
    "def solution(num):\n",
    "    answer = ''\n",
    "    if num == 0:\n",
    "        answer = 'Even'\n",
    "    elif num%2 == 1:\n",
    "        answer = 'Odd'\n",
    "    else :\n",
    "        answer = 'Even'\n",
    "    return answer"
   ]
  }
 ],
 "metadata": {
  "language_info": {
   "name": "python"
  }
 },
 "nbformat": 4,
 "nbformat_minor": 5
}
