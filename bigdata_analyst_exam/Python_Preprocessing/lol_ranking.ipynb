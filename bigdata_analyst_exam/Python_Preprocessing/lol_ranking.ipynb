{
 "cells": [
  {
   "cell_type": "code",
   "execution_count": 21,
   "id": "1f677902",
   "metadata": {},
   "outputs": [
    {
     "name": "stdout",
     "output_type": "stream",
     "text": [
      "행 : 51490\n",
      "열 : 61\n"
     ]
    },
    {
     "data": {
      "text/plain": [
       "np.int64(2)"
      ]
     },
     "execution_count": 21,
     "metadata": {},
     "output_type": "execute_result"
    }
   ],
   "source": [
    "# 데이터 로드하기\n",
    "## 롤 랭킹 데이터 : https://www.kaggle.com/datasnaek/league-of-legends\n",
    "DataUrl = 'https://raw.githubusercontent.com/Datamanim/pandas/main/lol.csv'\n",
    "\n",
    "import pandas as pd\n",
    "df = pd.read_csv(DataUrl,sep='\\t')\n",
    "\n",
    "# 상위 5개 행 출력\n",
    "df.head(5)\n",
    "\n",
    "# 데이터의 행과 열의 갯수 파악\n",
    "print(\"행 :\",df.shape[0])\n",
    "print(\"열 :\",df.shape[1])\n",
    "\n",
    "# 전체 컬럼 출력\n",
    "df.columns\n",
    "\n",
    "# 6번째 컬럼명 출력\n",
    "df.columns[5]\n",
    "\n",
    "# 6번째 컬럼의 데이터 타입 확인\n",
    "df.iloc[:,5].dtype\n",
    "\n",
    "# 데이터셋의 인덱스 구성\n",
    "df.index\n",
    "\n",
    "# 6번째 컬럼의 3번째 값\n",
    "df['firstBlood'][2]\n",
    "df.iloc[2,5]\n"
   ]
  }
 ],
 "metadata": {
  "kernelspec": {
   "display_name": ".venv",
   "language": "python",
   "name": "python3"
  },
  "language_info": {
   "codemirror_mode": {
    "name": "ipython",
    "version": 3
   },
   "file_extension": ".py",
   "mimetype": "text/x-python",
   "name": "python",
   "nbconvert_exporter": "python",
   "pygments_lexer": "ipython3",
   "version": "3.12.4"
  }
 },
 "nbformat": 4,
 "nbformat_minor": 5
}
