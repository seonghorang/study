{
 "cells": [
  {
   "cell_type": "code",
   "execution_count": null,
   "id": "265cb6e6",
   "metadata": {},
   "outputs": [],
   "source": [
    "# 배열만들기 2\n",
    "def solution(l, r):\n",
    "    answer = []\n",
    "    for i in range(l,r+1):\n",
    "        result = True\n",
    "        for s in str(i):\n",
    "            if s != '5' and s != '0':\n",
    "                result = False\n",
    "                break\n",
    "        if result:\n",
    "            answer.append(i)\n",
    "    if not answer:\n",
    "        answer.append(-1)\n",
    "    return answer"
   ]
  }
 ],
 "metadata": {
  "language_info": {
   "name": "python"
  }
 },
 "nbformat": 4,
 "nbformat_minor": 5
}
