{
 "cells": [
  {
   "cell_type": "code",
   "execution_count": null,
   "id": "6de0cd08",
   "metadata": {},
   "outputs": [
    {
     "data": {
      "text/plain": [
       "'\\nn 상자 수\\nw 가로 수\\nnum 꺼낼 번호\\n\\n\\ndef solution(n, w, num):\\n    answer = 0\\n    return answer\\n'"
      ]
     },
     "execution_count": 1,
     "metadata": {},
     "output_type": "execute_result"
    }
   ],
   "source": [
    "\"\"\"\n",
    "n 상자 수\n",
    "w 가로 수\n",
    "num 꺼낼 번호\n",
    "\"\"\""
   ]
  },
  {
   "cell_type": "code",
   "execution_count": null,
   "id": "74a144db",
   "metadata": {},
   "outputs": [
    {
     "data": {
      "text/plain": [
       "3"
      ]
     },
     "execution_count": 103,
     "metadata": {},
     "output_type": "execute_result"
    }
   ],
   "source": [
    "## 택배 상자 꺼내기\n",
    "\n",
    "def solution(n, w, num):\n",
    "    answer = 0\n",
    "    ## 박스 열 번호 구하기\n",
    "    col = (num - 1) % w\n",
    "    ## 2층씩 몇번 반복되는지, 올라가야할 칸\n",
    "    Q,R = divmod(n - num, 2 * w)\n",
    "    ## 다음 상자까지 가는데 필요한 칸\n",
    "    next_n = 2 * (w - 1 - col) + 1\n",
    "    answer = 1 + 2 * Q +(1 if R >= next_n else 0)\n",
    "    return answer"
   ]
  }
 ],
 "metadata": {
  "kernelspec": {
   "display_name": ".venv",
   "language": "python",
   "name": "python3"
  },
  "language_info": {
   "codemirror_mode": {
    "name": "ipython",
    "version": 3
   },
   "file_extension": ".py",
   "mimetype": "text/x-python",
   "name": "python",
   "nbconvert_exporter": "python",
   "pygments_lexer": "ipython3",
   "version": "3.12.4"
  }
 },
 "nbformat": 4,
 "nbformat_minor": 5
}
