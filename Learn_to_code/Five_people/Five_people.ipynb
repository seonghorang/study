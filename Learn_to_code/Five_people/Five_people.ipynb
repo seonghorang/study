{
 "cells": [
  {
   "cell_type": "code",
   "execution_count": null,
   "id": "d529d784",
   "metadata": {},
   "outputs": [],
   "source": [
    "# 5명씩\n",
    "def solution(names):\n",
    "    answer = []\n",
    "    for i in range(0,len(names),5):\n",
    "        answer.append(names[i])\n",
    "    return answer"
   ]
  }
 ],
 "metadata": {
  "language_info": {
   "name": "python"
  }
 },
 "nbformat": 4,
 "nbformat_minor": 5
}
