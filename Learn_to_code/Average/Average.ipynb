{
 "cells": [
  {
   "cell_type": "code",
   "execution_count": null,
   "id": "bf309189",
   "metadata": {},
   "outputs": [],
   "source": [
    "# 평균구하기\n",
    "def solution(arr):\n",
    "    answer = 0\n",
    "    answer = sum(arr) / len(arr)\n",
    "    return answer"
   ]
  }
 ],
 "metadata": {
  "language_info": {
   "name": "python"
  }
 },
 "nbformat": 4,
 "nbformat_minor": 5
}
